{
 "cells": [
  {
   "cell_type": "markdown",
   "metadata": {},
   "source": [
    "Task 2"
   ]
  },
  {
   "cell_type": "code",
   "execution_count": 7,
   "metadata": {},
   "outputs": [],
   "source": [
    "from pyspark import SparkContext, SparkConf\n",
    "from functools import reduce\n",
    "import pandas as pd\n",
    "\n",
    "def load_dataset(filename, columnNames):\n",
    "    df = pd.read_csv(filename,encoding='latin1',names=columnNames)\n",
    "    return df\n",
    "\n",
    "conf = SparkConf().setAppName('MapReduce').setMaster('local')\n",
    "sparkContext = SparkContext.getOrCreate(conf=conf)\n",
    "\n",
    "columns = ['passengerID', 'flightID', 'originAirport', 'destinationAirport', 'departureTime', 'flightTime']\n",
    "\n",
    "rdd = load_dataset(\"AComp_Passenger_data_no_error.csv\", columns)\n",
    "distributed_data = sparkContext.parallelize(rdd, 10)\n",
    "\n"
   ]
  }
 ],
 "metadata": {
  "kernelspec": {
   "display_name": "Python 3",
   "language": "python",
   "name": "python3"
  },
  "language_info": {
   "codemirror_mode": {
    "name": "ipython",
    "version": 3
   },
   "file_extension": ".py",
   "mimetype": "text/x-python",
   "name": "python",
   "nbconvert_exporter": "python",
   "pygments_lexer": "ipython3",
   "version": "3.12.1"
  }
 },
 "nbformat": 4,
 "nbformat_minor": 2
}
