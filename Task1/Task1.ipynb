{
 "cells": [
  {
   "cell_type": "markdown",
   "metadata": {},
   "source": [
    "# **Task 1**"
   ]
  },
  {
   "cell_type": "code",
   "execution_count": 31,
   "metadata": {},
   "outputs": [
    {
     "name": "stdout",
     "output_type": "stream",
     "text": [
      "35497\n",
      "35497\n"
     ]
    }
   ],
   "source": [
    "from pyspark.sql import *\n",
    "from pyspark.sql.functions import split\n",
    "import pandas as pd\n",
    "\n",
    "spark = SparkSession.builder.getOrCreate()\n",
    "RatingsDF = spark.read.text(\"ratings.txt\")\n",
    "RatingsDF = RatingsDF.withColumn('UserID', split(RatingsDF['value'], ' ').getItem(0))\n",
    "RatingsDF = RatingsDF.withColumn('ItemID', split(RatingsDF['value'], ' ').getItem(1))\n",
    "RatingsDF = RatingsDF.withColumn('Rating', split(RatingsDF['value'], ' ').getItem(2))\n",
    "RatingsDF = RatingsDF.drop('value')\n",
    "RatingsDF.dropna()"
   ]
  },
  {
   "cell_type": "markdown",
   "metadata": {},
   "source": [
    "https://saturncloud.io/blog/how-to-split-a-column-into-multiple-columns-in-pyspark-without-using-pandas/\n",
    "https://spark.apache.org/docs/latest/api/python/reference/pyspark.sql/api/pyspark.sql.DataFrame.withColumn.html"
   ]
  }
 ],
 "metadata": {
  "kernelspec": {
   "display_name": "Python 3",
   "language": "python",
   "name": "python3"
  },
  "language_info": {
   "codemirror_mode": {
    "name": "ipython",
    "version": 3
   },
   "file_extension": ".py",
   "mimetype": "text/x-python",
   "name": "python",
   "nbconvert_exporter": "python",
   "pygments_lexer": "ipython3",
   "version": "3.12.1"
  }
 },
 "nbformat": 4,
 "nbformat_minor": 2
}
