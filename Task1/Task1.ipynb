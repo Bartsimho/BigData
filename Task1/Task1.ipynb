{
 "cells": [
  {
   "cell_type": "markdown",
   "metadata": {},
   "source": [
    "# **Required Dependencies**\n",
    "\n",
    "Must be in provided devcontainer"
   ]
  },
  {
   "cell_type": "code",
   "execution_count": null,
   "metadata": {},
   "outputs": [],
   "source": [
    "%pip install pyspark matplotlib pandas"
   ]
  },
  {
   "cell_type": "markdown",
   "metadata": {},
   "source": [
    "# **Task 1**"
   ]
  },
  {
   "cell_type": "code",
   "execution_count": 5,
   "metadata": {},
   "outputs": [
    {
     "name": "stdout",
     "output_type": "stream",
     "text": [
      "There are 35497 rows of data as standard\n",
      "There are 35497 rows of data after dropping empty data\n",
      "There are 35494 rows of data after dropping duplicates\n",
      "There are 1853 rows of data as standard\n",
      "There are 1853 rows of data after dropping empty data\n",
      "There are 1853 rows of data after dropping duplicates\n"
     ]
    },
    {
     "data": {
      "image/png": "[encoded data removed]",
      "text/plain": [
       "<Figure size 900x900 with 1 Axes>"
      ]
     },
     "metadata": {},
     "output_type": "display_data"
    },
    {
     "name": "stdout",
     "output_type": "stream",
     "text": [
      "Top 5 films\n"
     ]
    },
    {
     "name": "stderr",
     "output_type": "stream",
     "text": [
      "                                                                                \r"
     ]
    },
    {
     "name": "stdout",
     "output_type": "stream",
     "text": [
      "+------+------------------+------------+\n",
      "|ItemID|     AverageRating|NumOfRatings|\n",
      "+------+------------------+------------+\n",
      "|   363| 3.769230769230769|          13|\n",
      "|   286| 3.760869565217391|          23|\n",
      "|   307| 3.717391304347826|          23|\n",
      "|   805|3.7142857142857144|          35|\n",
      "|   705|3.6785714285714284|          14|\n",
      "+------+------------------+------------+\n",
      "only showing top 5 rows\n",
      "\n",
      "Bottom 5 films\n",
      "+------+------------------+------------+\n",
      "|ItemID|     AverageRating|NumOfRatings|\n",
      "+------+------------------+------------+\n",
      "|   592|              1.75|          14|\n",
      "|   510|1.9090909090909092|          11|\n",
      "|   743|2.0416666666666665|          12|\n",
      "|   597|2.0454545454545454|          11|\n",
      "|   389|2.1470588235294117|          17|\n",
      "+------+------------------+------------+\n",
      "only showing top 5 rows\n",
      "\n",
      "The top 10 most rated films\n",
      "+------+------------------+------------+\n",
      "|ItemID|     AverageRating|NumOfRatings|\n",
      "+------+------------------+------------+\n",
      "|     7| 3.156609195402299|        1044|\n",
      "|    11|3.3759398496240602|         931|\n",
      "|     2| 3.192896174863388|         915|\n",
      "|   207| 2.858843537414966|         882|\n",
      "|     1| 2.985565819861432|         866|\n",
      "|    17| 3.074846625766871|         815|\n",
      "|    13|3.2565055762081783|         807|\n",
      "|   215| 3.183311432325887|         761|\n",
      "|    12|2.8026490066225165|         755|\n",
      "|    10|2.9013333333333335|         750|\n",
      "+------+------------------+------------+\n",
      "only showing top 10 rows\n",
      "\n",
      "Top 15 users to be rated by other users\n",
      "+-------------+------------+\n",
      "|TrusteeUserID|NumOfRatings|\n",
      "+-------------+------------+\n",
      "|          509|          59|\n",
      "|          188|          46|\n",
      "|          628|          28|\n",
      "|         1398|          23|\n",
      "|           29|          22|\n",
      "|          436|          20|\n",
      "|          433|          20|\n",
      "|          938|          17|\n",
      "|          546|          17|\n",
      "|          716|          17|\n",
      "|         1147|          16|\n",
      "|          965|          15|\n",
      "|         1187|          15|\n",
      "|          272|          14|\n",
      "|          782|          13|\n",
      "+-------------+------------+\n",
      "only showing top 15 rows\n",
      "\n",
      "The top 10 users with the most ratings given\n",
      "+------+------------+\n",
      "|UserID|RatingsGiven|\n",
      "+------+------------+\n",
      "|   272|         244|\n",
      "|  1187|         232|\n",
      "|   161|         197|\n",
      "|     3|         193|\n",
      "|   969|         174|\n",
      "|    79|         172|\n",
      "|   199|         155|\n",
      "|   702|         147|\n",
      "|   670|         137|\n",
      "|  1039|         129|\n",
      "+------+------------+\n",
      "only showing top 10 rows\n",
      "\n"
     ]
    }
   ],
   "source": [
    "from pyspark.sql import *\n",
    "from pyspark.sql.types import *\n",
    "from pyspark.sql.functions import *\n",
    "\n",
    "spark = SparkSession.builder.getOrCreate() #Create the spark session\n",
    "\n",
    "#https://sparkbyexamples.com/pyspark/pyspark-read-csv-file-into-dataframe/\n",
    "RatingsSchema = StructType([\n",
    "    StructField(\"UserID\", IntegerType(), True),\n",
    "    StructField(\"ItemID\", IntegerType(), True),\n",
    "    StructField(\"Rating\", FloatType(), True)\n",
    "])\n",
    "\n",
    "TrustSchema = StructType([\n",
    "    StructField(\"TrustorUserID\", IntegerType(), True),\n",
    "    StructField(\"TrusteeUserID\", IntegerType(), True),\n",
    "    StructField(\"TrustValue\", IntegerType(), True)\n",
    "])\n",
    "\n",
    "RatingsDF = spark.read.load(\"ratings.txt\", format='csv', sep=\" \", schema=RatingsSchema) #Read the contents of ratings.txt\n",
    "\n",
    "print(\"There are\", RatingsDF.count(),\"rows of data as standard\") #Display the number of rows in RatingsDF\n",
    "RatingsDF = RatingsDF.dropna() #Remove rows with empty data present\n",
    "print(\"There are\", RatingsDF.count(),\"rows of data after dropping empty data\") #Display the number of rows in RatingsDF so it can be compared to remove removing incomplete rows\n",
    "RatingsDF = RatingsDF.dropDuplicates(['UserID', 'ItemID']) #Remove rows that are duplicates of each other\n",
    "print(\"There are\", RatingsDF.count(),\"rows of data after dropping duplicates\") #Display the number of rows in RatingsDF so it can be comapred to see how much data cleaning has taken place\n",
    "\n",
    "#Repeat the entire process for the trust.txt file into a second dataframe\n",
    "TrustDF = spark.read.load(\"trust.txt\", format='csv', sep=\" \", schema=TrustSchema)\n",
    "\n",
    "print(\"There are\", TrustDF.count(), \"rows of data as standard\")\n",
    "TrustDF = TrustDF.dropna()\n",
    "print(\"There are\", TrustDF.count(), \"rows of data after dropping empty data\")\n",
    "TrustDF = TrustDF.dropDuplicates(['TrustorUserID', 'TrusteeUserID'])\n",
    "print(\"There are\", TrustDF.count(), \"rows of data after dropping duplicates\")\n",
    "\n",
    "import matplotlib.pyplot as plt\n",
    "import numpy as np\n",
    "\n",
    "RatingsPandas = RatingsDF.toPandas()\n",
    "RatingsOnly = RatingsPandas['Rating']\n",
    "plt.rcParams['figure.dpi'] = 100\n",
    "bins=[-0.25, 0.25, 0.75, 1.25, 1.75, 2.25, 2.75, 3.25, 3.75, 4.25] #defining the bins so the histogram has very neat and clear bars\n",
    "fig, ax = plt.subplots(figsize = (9,9))\n",
    "counts, edges, bars = plt.hist(RatingsOnly, bins=bins, edgecolor=\"black\") #plotting the histogram\n",
    "plt.xlabel('Rating')\n",
    "plt.ylabel('Times the Rating was given')\n",
    "plt.bar_label(bars) #adds the value of the bar as a label\n",
    "plt.show()\n",
    "#https://docs.kanaries.net/topics/PySpark/pyspark-dataframe-column-list\n",
    "#https://www.geeksforgeeks.org/how-to-plot-histogram-from-list-of-data-in-matplotlib/\n",
    "#https://stackoverflow.com/questions/39841733/matplotlib-histogram-how-to-display-the-count-over-the-bar\n",
    "#https://matplotlib.org/stable/api/_as_gen/matplotlib.pyplot.hist.html\n",
    "\n",
    "\n",
    "dfR = RatingsDF.groupBy(\"ItemID\").agg(mean('Rating').alias(\"AverageRating\"), count('ItemID').alias(\"NumOfRatings\")) #Get the average rating and the number of times an item has been rated for each film\n",
    "dfR = dfR.filter(dfR.NumOfRatings > 10)\n",
    "\n",
    "dfTrustee = TrustDF.groupBy(\"TrusteeUserID\").agg(count('TrusteeUserID').alias(\"NumOfRatings\"))\n",
    "dfTrustee = dfTrustee.filter(dfTrustee.NumOfRatings > 5)\n",
    "\n",
    "dfRUsers = RatingsDF.groupBy(\"UserID\").agg(count('UserID').alias(\"RatingsGiven\"))\n",
    "\n",
    "print(\"Top 5 films\")\n",
    "dfR.orderBy(desc(\"AverageRating\")).show(5)\n",
    "print(\"Bottom 5 films\")\n",
    "dfR.orderBy(asc(\"AverageRating\")).show(5)\n",
    "\n",
    "print(\"The top 10 most rated films\")\n",
    "dfR.orderBy(desc(\"NumOfRatings\")).show(10)\n",
    "\n",
    "print(\"Top 15 users to be rated by other users\")\n",
    "dfTrustee.orderBy(desc(\"NumOfRatings\")).show(15)\n",
    "\n",
    "print(\"The top 10 users with the most ratings given\")\n",
    "dfRUsers.orderBy(desc(\"RatingsGiven\")).show(10)"
   ]
  },
  {
   "cell_type": "markdown",
   "metadata": {},
   "source": [
    "Part 3"
   ]
  },
  {
   "cell_type": "code",
   "execution_count": 8,
   "metadata": {},
   "outputs": [
    {
     "name": "stdout",
     "output_type": "stream",
     "text": [
      "Root Mean Squared Error (RMSE) = 0.8444247426851654\n"
     ]
    },
    {
     "name": "stderr",
     "output_type": "stream",
     "text": [
      "                                                                                \r"
     ]
    },
    {
     "name": "stdout",
     "output_type": "stream",
     "text": [
      "+------+-------------------------------------------------------------------------------------------+\n",
      "|UserID|recommendations                                                                            |\n",
      "+------+-------------------------------------------------------------------------------------------+\n",
      "|1     |[{1508, 5.0699406}, {1517, 5.037057}, {319, 4.8745265}, {68, 4.7501802}, {162, 4.5497775}] |\n",
      "|3     |[{319, 4.304148}, {68, 4.1236577}, {158, 3.9490275}, {145, 3.9490275}, {107, 3.9490275}]   |\n",
      "|5     |[{282, 3.4172876}, {1167, 3.1390657}, {851, 3.1356227}, {386, 3.1292262}, {894, 3.0675151}]|\n",
      "|6     |[{319, 5.4519563}, {68, 5.405673}, {162, 4.7830796}, {97, 4.7830796}, {446, 4.7284}]       |\n",
      "|9     |[{162, 4.4270225}, {97, 4.4270225}, {1517, 4.285791}, {312, 4.265608}, {105, 4.2009187}]   |\n",
      "|12    |[{1517, 5.116169}, {1508, 5.030881}, {1353, 4.8889785}, {189, 4.652007}, {1167, 4.542481}] |\n",
      "|13    |[{1517, 4.9275713}, {1535, 4.1865134}, {398, 4.1283474}, {530, 4.079278}, {525, 4.0745373}]|\n",
      "|15    |[{68, 4.71452}, {319, 4.629811}, {258, 4.479357}, {1517, 4.4764385}, {1482, 4.2106514}]    |\n",
      "|16    |[{319, 4.976633}, {68, 4.867971}, {162, 4.715264}, {97, 4.715264}, {1508, 4.6876225}]      |\n",
      "|17    |[{312, 4.8517423}, {368, 4.2431655}, {1517, 4.22574}, {1482, 4.1957593}, {530, 4.1370053}] |\n",
      "|19    |[{1517, 4.728703}, {162, 4.3185983}, {97, 4.3185983}, {1535, 4.222552}, {621, 4.1713295}]  |\n",
      "|20    |[{1535, 3.2613711}, {1517, 3.1495268}, {162, 3.0319662}, {97, 3.0319662}, {565, 2.9968998}]|\n",
      "|22    |[{1517, 5.622034}, {162, 5.110413}, {97, 5.110413}, {1695, 5.096046}, {1482, 5.0025606}]   |\n",
      "|26    |[{1167, 4.4265504}, {1068, 4.3570337}, {312, 4.2949085}, {701, 4.224511}, {315, 4.2240496}]|\n",
      "|27    |[{319, 3.2941236}, {1517, 3.24693}, {261, 3.2191992}, {68, 3.207148}, {487, 3.1376462}]    |\n",
      "|28    |[{312, 4.323284}, {1517, 4.147409}, {162, 4.111239}, {97, 4.111239}, {915, 3.9249678}]     |\n",
      "|31    |[{312, 4.188423}, {1245, 3.7542644}, {310, 3.737312}, {315, 3.7220657}, {1695, 3.711537}]  |\n",
      "|34    |[{915, 5.0784197}, {162, 4.9862013}, {97, 4.9862013}, {1517, 4.8060265}, {312, 4.774187}]  |\n",
      "|35    |[{1517, 4.060732}, {309, 3.7881837}, {311, 3.777797}, {405, 3.6754248}, {258, 3.6750715}]  |\n",
      "|37    |[{1517, 5.3863087}, {525, 4.961265}, {162, 4.898752}, {97, 4.898752}, {261, 4.8052106}]    |\n",
      "+------+-------------------------------------------------------------------------------------------+\n",
      "only showing top 20 rows\n",
      "\n"
     ]
    },
    {
     "name": "stderr",
     "output_type": "stream",
     "text": [
      "                                                                                \r"
     ]
    },
    {
     "data": {
      "image/png": "[encoded data removed]",
      "text/plain": [
       "<Figure size 640x480 with 1 Axes>"
      ]
     },
     "metadata": {},
     "output_type": "display_data"
    }
   ],
   "source": [
    "from pyspark.ml.recommendation import ALS\n",
    "from pyspark.ml.evaluation import RegressionEvaluator\n",
    "\n",
    "#https://medium.com/@brunoborges_38708/recommender-system-using-als-in-pyspark-10329e1d1ee1\n",
    "#https://api-docs.databricks.com/python/pyspark/latest/api/pyspark.ml.recommendation.ALS.html\n",
    "\n",
    "#Splitting the data to be able to train the model\n",
    "train_data, test_data = RatingsDF.randomSplit([0.9, 0.1], seed=1234)\n",
    "\n",
    "#Using the ALS model\n",
    "als = ALS(\n",
    "    maxIter=10,\n",
    "    regParam=0.1,\n",
    "    itemCol=\"ItemID\",\n",
    "    userCol=\"UserID\",\n",
    "    ratingCol=\"Rating\",\n",
    "    coldStartStrategy=\"drop\",\n",
    "    nonnegative=True\n",
    ")\n",
    "\n",
    "#Fitting the training data into the model\n",
    "model = als.fit(train_data)\n",
    "predictions = model.transform(test_data)\n",
    "\n",
    "#create evaluator\n",
    "evaluator = RegressionEvaluator(\n",
    "    metricName=\"rmse\",\n",
    "    labelCol=\"Rating\",\n",
    "    predictionCol=\"prediction\"\n",
    ")\n",
    "\n",
    "#using RMSE as the mathmatical evaluator of the entire model\n",
    "rmse=evaluator.evaluate(predictions)\n",
    "print(f\"Root Mean Squared Error (RMSE) = {rmse}\")\n",
    "\n",
    "#Make 5 recommendations for each user\n",
    "userRecommendations = model.recommendForAllUsers(5)\n",
    "userRecommendations.show(truncate=False)\n",
    "\n",
    "\n",
    "#testing the optimal number of iterations for ALS\n",
    "tries=[2,3,5,10,15,20]\n",
    "test_rmse=np.zeros((len(tries),1))\n",
    "train_rmse=np.zeros((len(tries),1))\n",
    "\n",
    "for i in range(0,len(tries)):\n",
    "    als = ALS(\n",
    "        maxIter=tries[i],\n",
    "        regParam=0.1,\n",
    "        itemCol=\"ItemID\",\n",
    "        userCol=\"UserID\",\n",
    "        ratingCol=\"Rating\",\n",
    "        coldStartStrategy=\"drop\",\n",
    "        nonnegative=True\n",
    "    )\n",
    "\n",
    "    model = als.fit(train_data)\n",
    "    train_predictions = model.transform(train_data)\n",
    "    test_predictions = model.transform(test_data)\n",
    "\n",
    "    evaluator = RegressionEvaluator(\n",
    "        metricName=\"rmse\",\n",
    "        labelCol=\"Rating\",\n",
    "        predictionCol=\"prediction\"\n",
    "    )\n",
    "\n",
    "    train_rmse[i]=evaluator.evaluate(train_predictions)\n",
    "    test_rmse[i]=evaluator.evaluate(test_predictions)\n",
    "    del als\n",
    "    del model\n",
    "    del train_predictions\n",
    "    del test_predictions\n",
    "    del evaluator\n",
    "\n",
    "plt.figure()\n",
    "plt.xlabel(\"Iterations\")\n",
    "plt.ylabel(\"Root Mean Squared Error\")\n",
    "plt.plot(tries, train_rmse, 'b')\n",
    "plt.plot(tries, test_rmse, 'g')\n",
    "plt.axvline(x=10, color='r')\n",
    "plt.show()\n"
   ]
  }
 ],
 "metadata": {
  "kernelspec": {
   "display_name": "Python 3",
   "language": "python",
   "name": "python3"
  },
  "language_info": {
   "codemirror_mode": {
    "name": "ipython",
    "version": 3
   },
   "file_extension": ".py",
   "mimetype": "text/x-python",
   "name": "python",
   "nbconvert_exporter": "python",
   "pygments_lexer": "ipython3",
   "version": "3.13.1"
  }
 },
 "nbformat": 4,
 "nbformat_minor": 2
}
