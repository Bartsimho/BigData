{
 "cells": [
  {
   "cell_type": "markdown",
   "metadata": {},
   "source": [
    "# **Task 1**"
   ]
  },
  {
   "cell_type": "code",
   "execution_count": 1,
   "metadata": {},
   "outputs": [
    {
     "name": "stderr",
     "output_type": "stream",
     "text": [
      "25/01/05 16:40:16 WARN Utils: Your hostname, codespaces-8bb66a resolves to a loopback address: 127.0.0.1; using 10.0.0.31 instead (on interface eth0)\n",
      "25/01/05 16:40:16 WARN Utils: Set SPARK_LOCAL_IP if you need to bind to another address\n",
      "Setting default log level to \"WARN\".\n",
      "To adjust logging level use sc.setLogLevel(newLevel). For SparkR, use setLogLevel(newLevel).\n",
      "25/01/05 16:40:17 WARN NativeCodeLoader: Unable to load native-hadoop library for your platform... using builtin-java classes where applicable\n"
     ]
    },
    {
     "name": "stdout",
     "output_type": "stream",
     "text": [
      "There are 35497 rows of data as standard\n",
      "There are 35497 rows of data after dropping empty data\n",
      "There are 35494 rows of data after dropping duplicates\n",
      "There are 1853 rows of data as standard\n",
      "There are 1853 rows of data after dropping empty data\n",
      "There are 1853 rows of data after dropping duplicates\n"
     ]
    },
    {
     "name": "stderr",
     "output_type": "stream",
     "text": [
      "                                                                                \r"
     ]
    },
    {
     "data": {
      "image/png": "[encoded data removed]",
      "text/plain": [
       "<Figure size 900x900 with 1 Axes>"
      ]
     },
     "metadata": {},
     "output_type": "display_data"
    },
    {
     "name": "stdout",
     "output_type": "stream",
     "text": [
      "Top 5 films\n",
      "+------+------------------+------------+\n",
      "|ItemID|     AverageRating|NumOfRatings|\n",
      "+------+------------------+------------+\n",
      "|   363| 3.769230769230769|          13|\n",
      "|   286| 3.760869565217391|          23|\n",
      "|   307| 3.717391304347826|          23|\n",
      "|   805|3.7142857142857144|          35|\n",
      "|   705|3.6785714285714284|          14|\n",
      "+------+------------------+------------+\n",
      "only showing top 5 rows\n",
      "\n",
      "Bottom 5 films\n",
      "+------+------------------+------------+\n",
      "|ItemID|     AverageRating|NumOfRatings|\n",
      "+------+------------------+------------+\n",
      "|   592|              1.75|          14|\n",
      "|   510|1.9090909090909092|          11|\n",
      "|   743|2.0416666666666665|          12|\n",
      "|   597|2.0454545454545454|          11|\n",
      "|   389|2.1470588235294117|          17|\n",
      "+------+------------------+------------+\n",
      "only showing top 5 rows\n",
      "\n",
      "The top 10 most rated films\n"
     ]
    },
    {
     "name": "stderr",
     "output_type": "stream",
     "text": [
      "25/01/05 16:40:31 WARN GarbageCollectionMetrics: To enable non-built-in garbage collector(s) List(G1 Concurrent GC), users should configure it(them) to spark.eventLog.gcMetrics.youngGenerationGarbageCollectors or spark.eventLog.gcMetrics.oldGenerationGarbageCollectors\n"
     ]
    },
    {
     "name": "stdout",
     "output_type": "stream",
     "text": [
      "+------+------------------+------------+\n",
      "|ItemID|     AverageRating|NumOfRatings|\n",
      "+------+------------------+------------+\n",
      "|     7| 3.156609195402299|        1044|\n",
      "|    11|3.3759398496240602|         931|\n",
      "|     2| 3.192896174863388|         915|\n",
      "|   207| 2.858843537414966|         882|\n",
      "|     1| 2.985565819861432|         866|\n",
      "|    17| 3.074846625766871|         815|\n",
      "|    13|3.2565055762081783|         807|\n",
      "|   215| 3.183311432325887|         761|\n",
      "|    12|2.8026490066225165|         755|\n",
      "|    10|2.9013333333333335|         750|\n",
      "+------+------------------+------------+\n",
      "only showing top 10 rows\n",
      "\n",
      "Top 15 most rated users\n",
      "+-------------+------------+\n",
      "|TrusteeUserID|NumOfRatings|\n",
      "+-------------+------------+\n",
      "|          509|          59|\n",
      "|          188|          46|\n",
      "|          628|          28|\n",
      "|         1398|          23|\n",
      "|           29|          22|\n",
      "|          436|          20|\n",
      "|          433|          20|\n",
      "|          938|          17|\n",
      "|          546|          17|\n",
      "|          716|          17|\n",
      "|         1147|          16|\n",
      "|          965|          15|\n",
      "|         1187|          15|\n",
      "|          272|          14|\n",
      "|          782|          13|\n",
      "+-------------+------------+\n",
      "only showing top 15 rows\n",
      "\n",
      "The top 10 users with the most ratings given\n",
      "+------+------------+\n",
      "|UserID|RatingsGiven|\n",
      "+------+------------+\n",
      "|   272|         244|\n",
      "|  1187|         232|\n",
      "|   161|         197|\n",
      "|     3|         193|\n",
      "|   969|         174|\n",
      "|    79|         172|\n",
      "|   199|         155|\n",
      "|   702|         147|\n",
      "|   670|         137|\n",
      "|  1039|         129|\n",
      "+------+------------+\n",
      "only showing top 10 rows\n",
      "\n"
     ]
    }
   ],
   "source": [
    "from pyspark.sql import *\n",
    "from pyspark.sql.types import *\n",
    "from pyspark.sql.functions import *\n",
    "\n",
    "spark = SparkSession.builder.getOrCreate() #Create the spark session\n",
    "\n",
    "#https://sparkbyexamples.com/pyspark/pyspark-read-csv-file-into-dataframe/\n",
    "RatingsSchema = StructType([\n",
    "    StructField(\"UserID\", IntegerType(), True),\n",
    "    StructField(\"ItemID\", IntegerType(), True),\n",
    "    StructField(\"Rating\", FloatType(), True)\n",
    "])\n",
    "\n",
    "TrustSchema = StructType([\n",
    "    StructField(\"TrustorUserID\", IntegerType(), True),\n",
    "    StructField(\"TrusteeUserID\", IntegerType(), True),\n",
    "    StructField(\"TrustValue\", IntegerType(), True)\n",
    "])\n",
    "\n",
    "RatingsDF = spark.read.load(\"ratings.txt\", format='csv', sep=\" \", schema=RatingsSchema) #Read the contents of ratings.txt\n",
    "\n",
    "print(\"There are\", RatingsDF.count(),\"rows of data as standard\") #Display the number of rows in RatingsDF\n",
    "RatingsDF = RatingsDF.dropna() #Remove rows with empty data present\n",
    "print(\"There are\", RatingsDF.count(),\"rows of data after dropping empty data\") #Display the number of rows in RatingsDF so it can be compared to remove removing incomplete rows\n",
    "RatingsDF = RatingsDF.dropDuplicates(['UserID', 'ItemID']) #Remove rows that are duplicates of each other\n",
    "print(\"There are\", RatingsDF.count(),\"rows of data after dropping duplicates\") #Display the number of rows in RatingsDF so it can be comapred to see how much data cleaning has taken place\n",
    "\n",
    "#Repeat the entire process for the trust.txt file into a second dataframe\n",
    "TrustDF = spark.read.load(\"trust.txt\", format='csv', sep=\" \", schema=TrustSchema)\n",
    "\n",
    "print(\"There are\", TrustDF.count(), \"rows of data as standard\")\n",
    "TrustDF = TrustDF.dropna()\n",
    "print(\"There are\", TrustDF.count(), \"rows of data after dropping empty data\")\n",
    "TrustDF = TrustDF.dropDuplicates(['TrustorUserID', 'TrusteeUserID'])\n",
    "print(\"There are\", TrustDF.count(), \"rows of data after dropping duplicates\")\n",
    "\n",
    "import matplotlib.pyplot as plt\n",
    "import numpy as np\n",
    "\n",
    "RatingsOnly = RatingsDF.select('Rating').rdd.flatMap(lambda x: x).collect() #map the data in the column Rating into a list so it can be plotted\n",
    "RatingsOnly.sort()\n",
    "plt.rcParams['figure.dpi'] = 100\n",
    "bins=[-0.25, 0.25, 0.75, 1.25, 1.75, 2.25, 2.75, 3.25, 3.75, 4.25] #defining the bins so the histogram has very neat and clear bars\n",
    "fig, ax = plt.subplots(figsize = (9,9))\n",
    "counts, edges, bars = plt.hist(RatingsOnly, bins=bins, edgecolor=\"black\") #plotting the histogram\n",
    "plt.xlabel('Rating')\n",
    "plt.ylabel('Times the Rating was given')\n",
    "plt.bar_label(bars) #adds the value of the bar as a label\n",
    "plt.show()\n",
    "#https://docs.kanaries.net/topics/PySpark/pyspark-dataframe-column-list\n",
    "#https://www.geeksforgeeks.org/how-to-plot-histogram-from-list-of-data-in-matplotlib/\n",
    "#https://stackoverflow.com/questions/39841733/matplotlib-histogram-how-to-display-the-count-over-the-bar\n",
    "#https://matplotlib.org/stable/api/_as_gen/matplotlib.pyplot.hist.html\n",
    "\n",
    "\n",
    "dfR = RatingsDF.groupBy(\"ItemID\").agg(mean('Rating').alias(\"AverageRating\"), count('ItemID').alias(\"NumOfRatings\")) #Get the average rating and the number of times an item has been rated for each film\n",
    "dfR = dfR.filter(dfR.NumOfRatings > 10)\n",
    "\n",
    "dfTrustee = TrustDF.groupBy(\"TrusteeUserID\").agg(count('TrusteeUserID').alias(\"NumOfRatings\"))\n",
    "dfTrustee = dfTrustee.filter(dfTrustee.NumOfRatings > 5)\n",
    "\n",
    "dfRUsers = RatingsDF.groupBy(\"UserID\").agg(count('UserID').alias(\"RatingsGiven\"))\n",
    "\n",
    "print(\"Top 5 films\")\n",
    "dfR.orderBy(desc(\"AverageRating\")).show(5)\n",
    "print(\"Bottom 5 films\")\n",
    "dfR.orderBy(asc(\"AverageRating\")).show(5)\n",
    "\n",
    "print(\"The top 10 most rated films\")\n",
    "dfR.orderBy(desc(\"NumOfRatings\")).show(10)\n",
    "\n",
    "print(\"Top 15 most rated users\")\n",
    "dfTrustee.orderBy(desc(\"NumOfRatings\")).show(15)\n",
    "\n",
    "print(\"The top 10 users with the most ratings given\")\n",
    "dfRUsers.orderBy(desc(\"RatingsGiven\")).show(10)"
   ]
  },
  {
   "cell_type": "markdown",
   "metadata": {},
   "source": [
    "Part 3"
   ]
  },
  {
   "cell_type": "code",
   "execution_count": 3,
   "metadata": {},
   "outputs": [
    {
     "name": "stderr",
     "output_type": "stream",
     "text": [
      "                                                                                \r"
     ]
    },
    {
     "name": "stdout",
     "output_type": "stream",
     "text": [
      "Root Mean Squared Error (RMSE) = 0.8469454490581508\n"
     ]
    },
    {
     "name": "stderr",
     "output_type": "stream",
     "text": [
      "                                                                                \r"
     ]
    },
    {
     "name": "stdout",
     "output_type": "stream",
     "text": [
      "+------+-------------------------------------------------------------------------------------------+\n",
      "|UserID|recommendations                                                                            |\n",
      "+------+-------------------------------------------------------------------------------------------+\n",
      "|1     |[{162, 5.284487}, {97, 5.284487}, {1517, 5.1179457}, {44, 5.0174117}, {136, 5.01682}]      |\n",
      "|3     |[{319, 4.3100915}, {68, 4.118752}, {158, 3.9495268}, {145, 3.9495268}, {107, 3.9495268}]   |\n",
      "|5     |[{1169, 3.8597548}, {24, 3.5470216}, {194, 3.5261357}, {52, 3.415727}, {166, 3.3268123}]   |\n",
      "|6     |[{162, 5.288012}, {97, 5.288012}, {1508, 5.038084}, {319, 5.005867}, {142, 4.9533005}]     |\n",
      "|9     |[{126, 4.580546}, {162, 4.5062823}, {97, 4.5062823}, {52, 4.464682}, {181, 4.2969933}]     |\n",
      "|12    |[{1508, 5.1783566}, {1517, 5.0464063}, {162, 5.023387}, {97, 5.023387}, {1535, 4.901135}]  |\n",
      "|13    |[{1517, 4.896537}, {411, 4.3617873}, {126, 4.3476515}, {396, 4.3181233}, {484, 4.261387}]  |\n",
      "|15    |[{319, 5.413081}, {68, 5.2468376}, {126, 4.983638}, {52, 4.934701}, {162, 4.8359447}]      |\n",
      "|16    |[{162, 4.9429517}, {97, 4.9429517}, {1245, 4.697677}, {1508, 4.643061}, {136, 4.640443}]   |\n",
      "|17    |[{312, 4.7700634}, {407, 4.2457457}, {434, 4.181309}, {368, 4.1308737}, {793, 4.126566}]   |\n",
      "|19    |[{319, 4.8037486}, {162, 4.700695}, {97, 4.700695}, {68, 4.6387157}, {1508, 4.6059427}]    |\n",
      "|20    |[{1508, 3.4339752}, {944, 3.1108947}, {1535, 3.101186}, {162, 3.0617702}, {97, 3.0617702}] |\n",
      "|22    |[{1517, 5.619605}, {162, 5.370633}, {97, 5.370633}, {1508, 5.301619}, {1245, 5.05769}]     |\n",
      "|26    |[{1508, 4.7335796}, {304, 4.1584964}, {189, 4.0687795}, {1245, 4.061747}, {197, 4.0475435}]|\n",
      "|27    |[{487, 3.4390671}, {43, 3.4264896}, {1353, 3.424377}, {319, 3.4023738}, {839, 3.3838975}]  |\n",
      "|28    |[{1517, 4.309545}, {312, 4.146011}, {1051, 4.0668926}, {396, 3.8928823}, {525, 3.8766353}] |\n",
      "|31    |[{312, 4.017159}, {1508, 3.874963}, {368, 3.7839694}, {407, 3.6596656}, {1193, 3.6562839}] |\n",
      "|34    |[{944, 4.9899487}, {312, 4.9664364}, {1245, 4.8521996}, {530, 4.840472}, {476, 4.7724676}] |\n",
      "|35    |[{1508, 4.0973005}, {162, 4.047788}, {97, 4.047788}, {312, 3.9713192}, {1068, 3.8763323}]  |\n",
      "|37    |[{1517, 5.456564}, {162, 5.0890336}, {97, 5.0890336}, {312, 4.925893}, {396, 4.9034414}]   |\n",
      "+------+-------------------------------------------------------------------------------------------+\n",
      "only showing top 20 rows\n",
      "\n"
     ]
    },
    {
     "data": {
      "image/png": "[encoded data removed]",
      "text/plain": [
       "<Figure size 640x480 with 1 Axes>"
      ]
     },
     "metadata": {},
     "output_type": "display_data"
    }
   ],
   "source": [
    "from pyspark.ml.recommendation import ALS\n",
    "from pyspark.ml.evaluation import RegressionEvaluator\n",
    "\n",
    "#https://medium.com/@brunoborges_38708/recommender-system-using-als-in-pyspark-10329e1d1ee1\n",
    "#https://api-docs.databricks.com/python/pyspark/latest/api/pyspark.ml.recommendation.ALS.html\n",
    "\n",
    "#Splitting the data to be able to train the model\n",
    "train_data, test_data = RatingsDF.randomSplit([0.9, 0.1], seed=1234)\n",
    "\n",
    "#Using the ALS model\n",
    "als = ALS(\n",
    "    maxIter=10,\n",
    "    regParam=0.1,\n",
    "    itemCol=\"ItemID\",\n",
    "    userCol=\"UserID\",\n",
    "    ratingCol=\"Rating\",\n",
    "    coldStartStrategy=\"drop\",\n",
    "    nonnegative=True\n",
    ")\n",
    "\n",
    "#Fitting the training data into the model\n",
    "model = als.fit(train_data)\n",
    "predictions = model.transform(test_data)\n",
    "\n",
    "#create evaluator\n",
    "evaluator = RegressionEvaluator(\n",
    "    metricName=\"rmse\",\n",
    "    labelCol=\"Rating\",\n",
    "    predictionCol=\"prediction\"\n",
    ")\n",
    "\n",
    "#using RMSE as the mathmatical evaluator of the entire model\n",
    "rmse=evaluator.evaluate(predictions)\n",
    "print(f\"Root Mean Squared Error (RMSE) = {rmse}\")\n",
    "\n",
    "#Make 5 recommendations for each user\n",
    "userRecommendations = model.recommendForAllUsers(5)\n",
    "userRecommendations.show(truncate=False)\n",
    "\n",
    "\n",
    "#testing the optimal number of iterations for ALS\n",
    "tries=[2,3,5,10,15,20,25]\n",
    "test_rmse=np.zeros((len(tries),1))\n",
    "train_rmse=np.zeros((len(tries),1))\n",
    "\n",
    "for i in range(0,len(tries)):\n",
    "    als = ALS(\n",
    "        maxIter=tries[i],\n",
    "        regParam=0.1,\n",
    "        itemCol=\"ItemID\",\n",
    "        userCol=\"UserID\",\n",
    "        ratingCol=\"Rating\",\n",
    "        coldStartStrategy=\"drop\",\n",
    "        nonnegative=True\n",
    "    )\n",
    "\n",
    "    model = als.fit(train_data)\n",
    "    train_predictions = model.transform(train_data)\n",
    "    test_predictions = model.transform(test_data)\n",
    "\n",
    "    evaluator = RegressionEvaluator(\n",
    "        metricName=\"rmse\",\n",
    "        labelCol=\"Rating\",\n",
    "        predictionCol=\"prediction\"\n",
    "    )\n",
    "\n",
    "    train_rmse[i]=evaluator.evaluate(train_predictions)\n",
    "    test_rmse[i]=evaluator.evaluate(test_predictions)\n",
    "\n",
    "plt.figure()\n",
    "plt.xlabel(\"Iterations\")\n",
    "plt.ylabel(\"Root Mean Squared Error\")\n",
    "plt.plot(tries, train_rmse, 'b')\n",
    "plt.plot(tries, test_rmse, 'g')\n",
    "plt.axvline(x=10, color='r')\n",
    "plt.show()\n"
   ]
  }
 ],
 "metadata": {
  "kernelspec": {
   "display_name": "Python 3",
   "language": "python",
   "name": "python3"
  },
  "language_info": {
   "codemirror_mode": {
    "name": "ipython",
    "version": 3
   },
   "file_extension": ".py",
   "mimetype": "text/x-python",
   "name": "python",
   "nbconvert_exporter": "python",
   "pygments_lexer": "ipython3",
   "version": "3.12.1"
  }
 },
 "nbformat": 4,
 "nbformat_minor": 2
}
