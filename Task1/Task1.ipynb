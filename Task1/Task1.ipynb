{
 "cells": [
  {
   "cell_type": "markdown",
   "metadata": {},
   "source": [
    "# **Required Dependencies**\n",
    "\n",
    "Must be in provided devcontainer"
   ]
  },
  {
   "cell_type": "code",
   "execution_count": 1,
   "metadata": {},
   "outputs": [
    {
     "name": "stdout",
     "output_type": "stream",
     "text": [
      "Requirement already satisfied: pyspark in /usr/local/python/3.13.1/lib/python3.13/site-packages (3.5.4)\n",
      "Requirement already satisfied: matplotlib in /usr/local/python/3.13.1/lib/python3.13/site-packages (3.10.0)\n",
      "Requirement already satisfied: pandas in /usr/local/python/3.13.1/lib/python3.13/site-packages (2.2.3)\n",
      "Requirement already satisfied: standard-distutils in /usr/local/python/3.13.1/lib/python3.13/site-packages (3.11.9)\n",
      "Requirement already satisfied: py4j==0.10.9.7 in /usr/local/python/3.13.1/lib/python3.13/site-packages (from pyspark) (0.10.9.7)\n",
      "Requirement already satisfied: contourpy>=1.0.1 in /usr/local/python/3.13.1/lib/python3.13/site-packages (from matplotlib) (1.3.1)\n",
      "Requirement already satisfied: cycler>=0.10 in /usr/local/python/3.13.1/lib/python3.13/site-packages (from matplotlib) (0.12.1)\n",
      "Requirement already satisfied: fonttools>=4.22.0 in /usr/local/python/3.13.1/lib/python3.13/site-packages (from matplotlib) (4.55.3)\n",
      "Requirement already satisfied: kiwisolver>=1.3.1 in /usr/local/python/3.13.1/lib/python3.13/site-packages (from matplotlib) (1.4.8)\n",
      "Requirement already satisfied: numpy>=1.23 in /usr/local/python/3.13.1/lib/python3.13/site-packages (from matplotlib) (2.2.1)\n",
      "Requirement already satisfied: packaging>=20.0 in /root/.local/lib/python3.13/site-packages (from matplotlib) (24.2)\n",
      "Requirement already satisfied: pillow>=8 in /usr/local/python/3.13.1/lib/python3.13/site-packages (from matplotlib) (11.1.0)\n",
      "Requirement already satisfied: pyparsing>=2.3.1 in /usr/local/python/3.13.1/lib/python3.13/site-packages (from matplotlib) (3.2.1)\n",
      "Requirement already satisfied: python-dateutil>=2.7 in /root/.local/lib/python3.13/site-packages (from matplotlib) (2.9.0.post0)\n",
      "Requirement already satisfied: pytz>=2020.1 in /usr/local/python/3.13.1/lib/python3.13/site-packages (from pandas) (2024.2)\n",
      "Requirement already satisfied: tzdata>=2022.7 in /usr/local/python/3.13.1/lib/python3.13/site-packages (from pandas) (2024.2)\n",
      "Requirement already satisfied: six>=1.5 in /root/.local/lib/python3.13/site-packages (from python-dateutil>=2.7->matplotlib) (1.17.0)\n",
      "\u001b[33mWARNING: Running pip as the 'root' user can result in broken permissions and conflicting behaviour with the system package manager, possibly rendering your system unusable.It is recommended to use a virtual environment instead: https://pip.pypa.io/warnings/venv. Use the --root-user-action option if you know what you are doing and want to suppress this warning.\u001b[0m\u001b[33m\n",
      "\u001b[0mNote: you may need to restart the kernel to use updated packages.\n"
     ]
    }
   ],
   "source": [
    "%pip install pyspark matplotlib pandas standard-distutils"
   ]
  },
  {
   "cell_type": "markdown",
   "metadata": {},
   "source": [
    "# **Task 1**"
   ]
  },
  {
   "cell_type": "code",
   "execution_count": 2,
   "metadata": {},
   "outputs": [
    {
     "name": "stderr",
     "output_type": "stream",
     "text": [
      "25/01/08 09:11:33 WARN Utils: Your hostname, codespaces-e30809 resolves to a loopback address: 127.0.0.1; using 10.0.0.227 instead (on interface eth0)\n",
      "25/01/08 09:11:33 WARN Utils: Set SPARK_LOCAL_IP if you need to bind to another address\n",
      "Setting default log level to \"WARN\".\n",
      "To adjust logging level use sc.setLogLevel(newLevel). For SparkR, use setLogLevel(newLevel).\n",
      "25/01/08 09:11:35 WARN NativeCodeLoader: Unable to load native-hadoop library for your platform... using builtin-java classes where applicable\n",
      "                                                                                \r"
     ]
    },
    {
     "name": "stdout",
     "output_type": "stream",
     "text": [
      "There are 35497 rows of data as standard\n"
     ]
    },
    {
     "name": "stderr",
     "output_type": "stream",
     "text": [
      "                                                                                \r"
     ]
    },
    {
     "name": "stdout",
     "output_type": "stream",
     "text": [
      "There are 35497 rows of data after dropping empty data\n"
     ]
    },
    {
     "name": "stderr",
     "output_type": "stream",
     "text": [
      "25/01/08 09:11:48 WARN GarbageCollectionMetrics: To enable non-built-in garbage collector(s) List(G1 Concurrent GC), users should configure it(them) to spark.eventLog.gcMetrics.youngGenerationGarbageCollectors or spark.eventLog.gcMetrics.oldGenerationGarbageCollectors\n",
      "                                                                                \r"
     ]
    },
    {
     "name": "stdout",
     "output_type": "stream",
     "text": [
      "There are 35494 rows of data after dropping duplicates\n",
      "There are 1853 rows of data as standard\n",
      "There are 1853 rows of data after dropping empty data\n",
      "There are 1853 rows of data after dropping duplicates\n"
     ]
    },
    {
     "data": {
      "image/png": "[encoded data removed]",
      "text/plain": [
       "<Figure size 900x900 with 1 Axes>"
      ]
     },
     "metadata": {},
     "output_type": "display_data"
    },
    {
     "name": "stdout",
     "output_type": "stream",
     "text": [
      "Top 5 films\n",
      "+------+------------------+------------+\n",
      "|ItemID|     AverageRating|NumOfRatings|\n",
      "+------+------------------+------------+\n",
      "|   363| 3.769230769230769|          13|\n",
      "|   286| 3.760869565217391|          23|\n",
      "|   307| 3.717391304347826|          23|\n",
      "|   805|3.7142857142857144|          35|\n",
      "|   705|3.6785714285714284|          14|\n",
      "+------+------------------+------------+\n",
      "only showing top 5 rows\n",
      "\n",
      "Bottom 5 films\n",
      "+------+------------------+------------+\n",
      "|ItemID|     AverageRating|NumOfRatings|\n",
      "+------+------------------+------------+\n",
      "|   592|              1.75|          14|\n",
      "|   510|1.9090909090909092|          11|\n",
      "|   743|2.0416666666666665|          12|\n",
      "|   597|2.0454545454545454|          11|\n",
      "|   389|2.1470588235294117|          17|\n",
      "+------+------------------+------------+\n",
      "only showing top 5 rows\n",
      "\n",
      "The top 10 most rated films\n",
      "+------+------------------+------------+\n",
      "|ItemID|     AverageRating|NumOfRatings|\n",
      "+------+------------------+------------+\n",
      "|     7| 3.156609195402299|        1044|\n",
      "|    11|3.3759398496240602|         931|\n",
      "|     2| 3.192896174863388|         915|\n",
      "|   207| 2.858843537414966|         882|\n",
      "|     1| 2.985565819861432|         866|\n",
      "|    17| 3.074846625766871|         815|\n",
      "|    13|3.2565055762081783|         807|\n",
      "|   215| 3.183311432325887|         761|\n",
      "|    12|2.8026490066225165|         755|\n",
      "|    10|2.9013333333333335|         750|\n",
      "+------+------------------+------------+\n",
      "only showing top 10 rows\n",
      "\n",
      "Top 15 users to be rated by other users\n",
      "+-------------+------------+\n",
      "|TrusteeUserID|NumOfRatings|\n",
      "+-------------+------------+\n",
      "|          509|          59|\n",
      "|          188|          46|\n",
      "|          628|          28|\n",
      "|         1398|          23|\n",
      "|           29|          22|\n",
      "|          436|          20|\n",
      "|          433|          20|\n",
      "|          938|          17|\n",
      "|          546|          17|\n",
      "|          716|          17|\n",
      "|         1147|          16|\n",
      "|          965|          15|\n",
      "|         1187|          15|\n",
      "|          272|          14|\n",
      "|          782|          13|\n",
      "+-------------+------------+\n",
      "only showing top 15 rows\n",
      "\n",
      "The top 10 users with the most ratings given\n",
      "+------+------------+\n",
      "|UserID|RatingsGiven|\n",
      "+------+------------+\n",
      "|   272|         244|\n",
      "|  1187|         232|\n",
      "|   161|         197|\n",
      "|     3|         193|\n",
      "|   969|         174|\n",
      "|    79|         172|\n",
      "|   199|         155|\n",
      "|   702|         147|\n",
      "|   670|         137|\n",
      "|  1039|         129|\n",
      "+------+------------+\n",
      "only showing top 10 rows\n",
      "\n"
     ]
    }
   ],
   "source": [
    "from pyspark.sql import *\n",
    "from pyspark.sql.types import *\n",
    "from pyspark.sql.functions import *\n",
    "\n",
    "spark = SparkSession.builder.getOrCreate() #Create the spark session\n",
    "\n",
    "#https://sparkbyexamples.com/pyspark/pyspark-read-csv-file-into-dataframe/\n",
    "RatingsSchema = StructType([\n",
    "    StructField(\"UserID\", IntegerType(), True),\n",
    "    StructField(\"ItemID\", IntegerType(), True),\n",
    "    StructField(\"Rating\", FloatType(), True)\n",
    "])\n",
    "\n",
    "TrustSchema = StructType([\n",
    "    StructField(\"TrustorUserID\", IntegerType(), True),\n",
    "    StructField(\"TrusteeUserID\", IntegerType(), True),\n",
    "    StructField(\"TrustValue\", IntegerType(), True)\n",
    "])\n",
    "\n",
    "RatingsDF = spark.read.load(\"ratings.txt\", format='csv', sep=\" \", schema=RatingsSchema) #Read the contents of ratings.txt\n",
    "\n",
    "print(\"There are\", RatingsDF.count(),\"rows of data as standard\") #Display the number of rows in RatingsDF\n",
    "RatingsDF = RatingsDF.dropna() #Remove rows with empty data present\n",
    "print(\"There are\", RatingsDF.count(),\"rows of data after dropping empty data\") #Display the number of rows in RatingsDF so it can be compared to remove removing incomplete rows\n",
    "RatingsDF = RatingsDF.dropDuplicates(['UserID', 'ItemID']) #Remove rows that are duplicates of each other\n",
    "print(\"There are\", RatingsDF.count(),\"rows of data after dropping duplicates\") #Display the number of rows in RatingsDF so it can be comapred to see how much data cleaning has taken place\n",
    "\n",
    "#Repeat the entire process for the trust.txt file into a second dataframe\n",
    "TrustDF = spark.read.load(\"trust.txt\", format='csv', sep=\" \", schema=TrustSchema)\n",
    "\n",
    "print(\"There are\", TrustDF.count(), \"rows of data as standard\")\n",
    "TrustDF = TrustDF.dropna()\n",
    "print(\"There are\", TrustDF.count(), \"rows of data after dropping empty data\")\n",
    "TrustDF = TrustDF.dropDuplicates(['TrustorUserID', 'TrusteeUserID'])\n",
    "print(\"There are\", TrustDF.count(), \"rows of data after dropping duplicates\")\n",
    "\n",
    "import matplotlib.pyplot as plt\n",
    "import numpy as np\n",
    "\n",
    "RatingsPandas = RatingsDF.toPandas()\n",
    "RatingsOnly = RatingsPandas['Rating']\n",
    "plt.rcParams['figure.dpi'] = 100\n",
    "bins=[-0.25, 0.25, 0.75, 1.25, 1.75, 2.25, 2.75, 3.25, 3.75, 4.25] #defining the bins so the histogram has very neat and clear bars\n",
    "fig, ax = plt.subplots(figsize = (9,9))\n",
    "counts, edges, bars = plt.hist(RatingsOnly, bins=bins, edgecolor=\"black\") #plotting the histogram\n",
    "plt.xlabel('Rating')\n",
    "plt.ylabel('Times the Rating was given')\n",
    "plt.bar_label(bars) #adds the value of the bar as a label\n",
    "plt.show()\n",
    "#https://docs.kanaries.net/topics/PySpark/pyspark-dataframe-column-list\n",
    "#https://www.geeksforgeeks.org/how-to-plot-histogram-from-list-of-data-in-matplotlib/\n",
    "#https://stackoverflow.com/questions/39841733/matplotlib-histogram-how-to-display-the-count-over-the-bar\n",
    "#https://matplotlib.org/stable/api/_as_gen/matplotlib.pyplot.hist.html\n",
    "\n",
    "\n",
    "dfR = RatingsDF.groupBy(\"ItemID\").agg(mean('Rating').alias(\"AverageRating\"), count('ItemID').alias(\"NumOfRatings\")) #Get the average rating and the number of times an item has been rated for each film\n",
    "dfR = dfR.filter(dfR.NumOfRatings > 10)\n",
    "\n",
    "dfTrustee = TrustDF.groupBy(\"TrusteeUserID\").agg(count('TrusteeUserID').alias(\"NumOfRatings\"))\n",
    "dfTrustee = dfTrustee.filter(dfTrustee.NumOfRatings > 5)\n",
    "\n",
    "dfRUsers = RatingsDF.groupBy(\"UserID\").agg(count('UserID').alias(\"RatingsGiven\"))\n",
    "\n",
    "print(\"Top 5 films\")\n",
    "dfR.orderBy(desc(\"AverageRating\")).show(5)\n",
    "print(\"Bottom 5 films\")\n",
    "dfR.orderBy(asc(\"AverageRating\")).show(5)\n",
    "\n",
    "print(\"The top 10 most rated films\")\n",
    "dfR.orderBy(desc(\"NumOfRatings\")).show(10)\n",
    "\n",
    "print(\"Top 15 users to be rated by other users\")\n",
    "dfTrustee.orderBy(desc(\"NumOfRatings\")).show(15)\n",
    "\n",
    "print(\"The top 10 users with the most ratings given\")\n",
    "dfRUsers.orderBy(desc(\"RatingsGiven\")).show(10)"
   ]
  },
  {
   "cell_type": "markdown",
   "metadata": {},
   "source": [
    "Part 3"
   ]
  },
  {
   "cell_type": "code",
   "execution_count": 3,
   "metadata": {},
   "outputs": [
    {
     "name": "stderr",
     "output_type": "stream",
     "text": [
      "25/01/08 09:12:15 WARN InstanceBuilder: Failed to load implementation from:dev.ludovic.netlib.blas.JNIBLAS\n",
      "25/01/08 09:12:15 WARN InstanceBuilder: Failed to load implementation from:dev.ludovic.netlib.blas.VectorBLAS\n",
      "                                                                                \r"
     ]
    },
    {
     "name": "stdout",
     "output_type": "stream",
     "text": [
      "Root Mean Squared Error (RMSE) = 0.842365999425569\n"
     ]
    },
    {
     "name": "stderr",
     "output_type": "stream",
     "text": [
      "                                                                                \r"
     ]
    },
    {
     "name": "stdout",
     "output_type": "stream",
     "text": [
      "+------+---------------------------------------------------------------------------------------------+\n",
      "|UserID|recommendations                                                                              |\n",
      "+------+---------------------------------------------------------------------------------------------+\n",
      "|1     |[{1517, 5.283372}, {1055, 4.5486403}, {1068, 4.538898}, {565, 4.3889713}, {367, 4.3808465}]  |\n",
      "|3     |[{68, 4.0303373}, {158, 3.928084}, {145, 3.928084}, {107, 3.928084}, {35, 3.928084}]         |\n",
      "|5     |[{888, 3.4558692}, {316, 3.2591984}, {763, 3.254799}, {704, 3.2340882}, {335, 3.2337134}]    |\n",
      "|6     |[{142, 5.335541}, {1517, 5.260697}, {181, 4.943029}, {102, 4.8910475}, {770, 4.883806}]      |\n",
      "|9     |[{1517, 4.496481}, {888, 4.467111}, {1136, 4.126311}, {870, 4.063317}, {126, 4.014019}]      |\n",
      "|12    |[{1517, 5.243239}, {1508, 4.774501}, {1068, 4.7375035}, {1055, 4.6452723}, {888, 4.5635796}] |\n",
      "|13    |[{1517, 4.919326}, {1535, 4.075497}, {142, 3.9829578}, {1556, 3.9139738}, {565, 3.9112453}]  |\n",
      "|15    |[{1517, 4.839637}, {1068, 4.59223}, {1055, 4.4093723}, {311, 4.3338904}, {189, 4.3201356}]   |\n",
      "|16    |[{1517, 4.8094153}, {1055, 4.3554783}, {1068, 4.338713}, {1245, 4.3335495}, {609, 4.3201036}]|\n",
      "|17    |[{312, 4.8145623}, {142, 4.3168306}, {2045, 4.2374616}, {2058, 4.224343}, {2054, 4.224343}]  |\n",
      "|19    |[{1517, 4.865005}, {1535, 4.3043165}, {1068, 4.2622037}, {1055, 4.159707}, {565, 4.1485834}] |\n",
      "|20    |[{258, 3.0265164}, {1068, 3.0221577}, {1167, 2.984889}, {888, 2.9798832}, {189, 2.9661226}]  |\n",
      "|22    |[{1517, 5.8938427}, {142, 5.0787387}, {126, 5.0754857}, {68, 5.059079}, {888, 5.054938}]     |\n",
      "|26    |[{68, 5.789362}, {319, 5.643804}, {52, 4.859122}, {126, 4.846592}, {27, 4.3294854}]          |\n",
      "|27    |[{261, 3.2162137}, {549, 3.1607637}, {1517, 3.1601741}, {609, 3.0392537}, {142, 2.9643502}]  |\n",
      "|28    |[{1517, 4.359802}, {312, 4.310899}, {181, 4.1223903}, {162, 4.1040845}, {97, 4.1040845}]     |\n",
      "|31    |[{68, 4.571365}, {319, 4.272346}, {142, 4.143007}, {181, 4.0222936}, {770, 3.9970012}]       |\n",
      "|34    |[{1890, 4.866298}, {1695, 4.837574}, {142, 4.8077793}, {1051, 4.7441335}, {1517, 4.7164917}] |\n",
      "|35    |[{1517, 4.0097036}, {311, 3.7566059}, {309, 3.7392516}, {418, 3.6107543}, {494, 3.6099746}]  |\n",
      "|37    |[{1517, 5.5555725}, {142, 5.319776}, {181, 5.012465}, {1890, 4.99623}, {162, 4.9132853}]     |\n",
      "+------+---------------------------------------------------------------------------------------------+\n",
      "only showing top 20 rows\n",
      "\n"
     ]
    },
    {
     "name": "stderr",
     "output_type": "stream",
     "text": [
      "                                                                                \r"
     ]
    },
    {
     "data": {
      "image/png": "[encoded data removed]",
      "text/plain": [
       "<Figure size 640x480 with 1 Axes>"
      ]
     },
     "metadata": {},
     "output_type": "display_data"
    }
   ],
   "source": [
    "from pyspark.ml.recommendation import ALS\n",
    "from pyspark.ml.evaluation import RegressionEvaluator\n",
    "\n",
    "#https://medium.com/@brunoborges_38708/recommender-system-using-als-in-pyspark-10329e1d1ee1\n",
    "#https://api-docs.databricks.com/python/pyspark/latest/api/pyspark.ml.recommendation.ALS.html\n",
    "\n",
    "#Splitting the data to be able to train the model\n",
    "train_data, test_data = RatingsDF.randomSplit([0.9, 0.1], seed=1234)\n",
    "\n",
    "#Using the ALS model\n",
    "als = ALS(\n",
    "    maxIter=10,\n",
    "    regParam=0.1,\n",
    "    itemCol=\"ItemID\",\n",
    "    userCol=\"UserID\",\n",
    "    ratingCol=\"Rating\",\n",
    "    coldStartStrategy=\"drop\",\n",
    "    nonnegative=True\n",
    ")\n",
    "\n",
    "#Fitting the training data into the model\n",
    "model = als.fit(train_data)\n",
    "predictions = model.transform(test_data)\n",
    "\n",
    "#create evaluator\n",
    "evaluator = RegressionEvaluator(\n",
    "    metricName=\"rmse\",\n",
    "    labelCol=\"Rating\",\n",
    "    predictionCol=\"prediction\"\n",
    ")\n",
    "\n",
    "#using RMSE as the mathmatical evaluator of the entire model\n",
    "rmse=evaluator.evaluate(predictions)\n",
    "print(f\"Root Mean Squared Error (RMSE) = {rmse}\")\n",
    "\n",
    "#Make 5 recommendations for each user\n",
    "userRecommendations = model.recommendForAllUsers(5)\n",
    "userRecommendations.show(truncate=False)\n",
    "\n",
    "\n",
    "#testing the optimal number of iterations for ALS\n",
    "tries=[2,3,5,10,15,20]\n",
    "test_rmse=np.zeros((len(tries),1))\n",
    "train_rmse=np.zeros((len(tries),1))\n",
    "\n",
    "for i in range(0,len(tries)):\n",
    "    als = ALS(\n",
    "        maxIter=tries[i],\n",
    "        regParam=0.1,\n",
    "        itemCol=\"ItemID\",\n",
    "        userCol=\"UserID\",\n",
    "        ratingCol=\"Rating\",\n",
    "        coldStartStrategy=\"drop\",\n",
    "        nonnegative=True\n",
    "    )\n",
    "\n",
    "    model = als.fit(train_data)\n",
    "    train_predictions = model.transform(train_data)\n",
    "    test_predictions = model.transform(test_data)\n",
    "\n",
    "    evaluator = RegressionEvaluator(\n",
    "        metricName=\"rmse\",\n",
    "        labelCol=\"Rating\",\n",
    "        predictionCol=\"prediction\"\n",
    "    )\n",
    "\n",
    "    train_rmse[i]=evaluator.evaluate(train_predictions)\n",
    "    test_rmse[i]=evaluator.evaluate(test_predictions)\n",
    "    del als\n",
    "    del model\n",
    "    del train_predictions\n",
    "    del test_predictions\n",
    "    del evaluator\n",
    "\n",
    "plt.figure()\n",
    "plt.xlabel(\"Iterations\")\n",
    "plt.ylabel(\"Root Mean Squared Error\")\n",
    "plt.plot(tries, train_rmse, 'b')\n",
    "plt.plot(tries, test_rmse, 'g')\n",
    "plt.axvline(x=10, color='r')\n",
    "plt.show()\n"
   ]
  }
 ],
 "metadata": {
  "kernelspec": {
   "display_name": "Python 3",
   "language": "python",
   "name": "python3"
  },
  "language_info": {
   "codemirror_mode": {
    "name": "ipython",
    "version": 3
   },
   "file_extension": ".py",
   "mimetype": "text/x-python",
   "name": "python",
   "nbconvert_exporter": "python",
   "pygments_lexer": "ipython3",
   "version": "3.13.1"
  }
 },
 "nbformat": 4,
 "nbformat_minor": 2
}
