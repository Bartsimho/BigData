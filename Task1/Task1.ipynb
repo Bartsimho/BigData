{
 "cells": [
  {
   "cell_type": "markdown",
   "metadata": {},
   "source": [
    "# **Required Dependencies**"
   ]
  },
  {
   "cell_type": "code",
   "execution_count": 1,
   "metadata": {},
   "outputs": [
    {
     "name": "stdout",
     "output_type": "stream",
     "text": [
      "Collecting pyspark\n",
      "  Downloading pyspark-3.5.4.tar.gz (317.3 MB)\n",
      "\u001b[2K     \u001b[90m━━━━━━━━━━━━━━━━━━━━━━━━━━━━━━━━━━━━━━\u001b[0m \u001b[32m317.3/317.3 MB\u001b[0m \u001b[31m71.0 MB/s\u001b[0m eta \u001b[36m0:00:00\u001b[0m00:01\u001b[0m00:01\u001b[0m\n",
      "\u001b[?25h  Installing build dependencies ... \u001b[?25ldone\n",
      "\u001b[?25h  Getting requirements to build wheel ... \u001b[?25ldone\n",
      "\u001b[?25h  Preparing metadata (pyproject.toml) ... \u001b[?25ldone\n",
      "\u001b[?25hCollecting py4j==0.10.9.7 (from pyspark)\n",
      "  Downloading py4j-0.10.9.7-py2.py3-none-any.whl.metadata (1.5 kB)\n",
      "Downloading py4j-0.10.9.7-py2.py3-none-any.whl (200 kB)\n",
      "Building wheels for collected packages: pyspark\n",
      "  Building wheel for pyspark (pyproject.toml) ... \u001b[?25ldone\n",
      "\u001b[?25h  Created wheel for pyspark: filename=pyspark-3.5.4-py2.py3-none-any.whl size=317849768 sha256=3b026135bb21004f207ae5ade65f52e46a7ced7bc0667b8d1dd2af4ab9506cea\n",
      "  Stored in directory: /home/codespace/.cache/pip/wheels/13/92/64/da92a3521323cc629fdf25dd56eb26938e08014c1b57ad3759\n",
      "Successfully built pyspark\n",
      "Installing collected packages: py4j, pyspark\n",
      "Successfully installed py4j-0.10.9.7 pyspark-3.5.4\n"
     ]
    }
   ],
   "source": [
    "!pip install pyspark"
   ]
  },
  {
   "cell_type": "code",
   "execution_count": 2,
   "metadata": {},
   "outputs": [
    {
     "name": "stdout",
     "output_type": "stream",
     "text": [
      "Requirement already satisfied: scikit-learn in /home/codespace/.local/lib/python3.12/site-packages (1.6.0)\n",
      "Requirement already satisfied: numpy>=1.19.5 in /home/codespace/.local/lib/python3.12/site-packages (from scikit-learn) (2.2.0)\n",
      "Requirement already satisfied: scipy>=1.6.0 in /home/codespace/.local/lib/python3.12/site-packages (from scikit-learn) (1.14.1)\n",
      "Requirement already satisfied: joblib>=1.2.0 in /home/codespace/.local/lib/python3.12/site-packages (from scikit-learn) (1.4.2)\n",
      "Requirement already satisfied: threadpoolctl>=3.1.0 in /home/codespace/.local/lib/python3.12/site-packages (from scikit-learn) (3.5.0)\n"
     ]
    }
   ],
   "source": [
    "!pip install scikit-learn"
   ]
  },
  {
   "cell_type": "markdown",
   "metadata": {},
   "source": [
    "# **Task 1**"
   ]
  },
  {
   "cell_type": "code",
   "execution_count": 3,
   "metadata": {},
   "outputs": [
    {
     "name": "stderr",
     "output_type": "stream",
     "text": [
      "25/01/07 17:00:24 WARN Utils: Your hostname, codespaces-790c7a resolves to a loopback address: 127.0.0.1; using 10.0.0.167 instead (on interface eth0)\n",
      "25/01/07 17:00:24 WARN Utils: Set SPARK_LOCAL_IP if you need to bind to another address\n",
      "Setting default log level to \"WARN\".\n",
      "To adjust logging level use sc.setLogLevel(newLevel). For SparkR, use setLogLevel(newLevel).\n",
      "25/01/07 17:00:25 WARN NativeCodeLoader: Unable to load native-hadoop library for your platform... using builtin-java classes where applicable\n",
      "                                                                                \r"
     ]
    },
    {
     "name": "stdout",
     "output_type": "stream",
     "text": [
      "There are 35497 rows of data as standard\n",
      "There are 35497 rows of data after dropping empty data\n",
      "There are 35494 rows of data after dropping duplicates\n",
      "There are 1853 rows of data as standard\n",
      "There are 1853 rows of data after dropping empty data\n"
     ]
    },
    {
     "name": "stderr",
     "output_type": "stream",
     "text": [
      "25/01/07 17:00:38 WARN GarbageCollectionMetrics: To enable non-built-in garbage collector(s) List(G1 Concurrent GC), users should configure it(them) to spark.eventLog.gcMetrics.youngGenerationGarbageCollectors or spark.eventLog.gcMetrics.oldGenerationGarbageCollectors\n"
     ]
    },
    {
     "name": "stdout",
     "output_type": "stream",
     "text": [
      "There are 1853 rows of data after dropping duplicates\n"
     ]
    },
    {
     "data": {
      "image/png": "[encoded data removed]",
      "text/plain": [
       "<Figure size 900x900 with 1 Axes>"
      ]
     },
     "metadata": {},
     "output_type": "display_data"
    },
    {
     "name": "stdout",
     "output_type": "stream",
     "text": [
      "Top 5 films\n",
      "+------+------------------+------------+\n",
      "|ItemID|     AverageRating|NumOfRatings|\n",
      "+------+------------------+------------+\n",
      "|   363| 3.769230769230769|          13|\n",
      "|   286| 3.760869565217391|          23|\n",
      "|   307| 3.717391304347826|          23|\n",
      "|   805|3.7142857142857144|          35|\n",
      "|   705|3.6785714285714284|          14|\n",
      "+------+------------------+------------+\n",
      "only showing top 5 rows\n",
      "\n",
      "Bottom 5 films\n",
      "+------+------------------+------------+\n",
      "|ItemID|     AverageRating|NumOfRatings|\n",
      "+------+------------------+------------+\n",
      "|   592|              1.75|          14|\n",
      "|   510|1.9090909090909092|          11|\n",
      "|   743|2.0416666666666665|          12|\n",
      "|   597|2.0454545454545454|          11|\n",
      "|   389|2.1470588235294117|          17|\n",
      "+------+------------------+------------+\n",
      "only showing top 5 rows\n",
      "\n",
      "The top 10 most rated films\n",
      "+------+------------------+------------+\n",
      "|ItemID|     AverageRating|NumOfRatings|\n",
      "+------+------------------+------------+\n",
      "|     7| 3.156609195402299|        1044|\n",
      "|    11|3.3759398496240602|         931|\n",
      "|     2| 3.192896174863388|         915|\n",
      "|   207| 2.858843537414966|         882|\n",
      "|     1| 2.985565819861432|         866|\n",
      "|    17| 3.074846625766871|         815|\n",
      "|    13|3.2565055762081783|         807|\n",
      "|   215| 3.183311432325887|         761|\n",
      "|    12|2.8026490066225165|         755|\n",
      "|    10|2.9013333333333335|         750|\n",
      "+------+------------------+------------+\n",
      "only showing top 10 rows\n",
      "\n",
      "Top 15 users to be rated by other users\n",
      "+-------------+------------+\n",
      "|TrusteeUserID|NumOfRatings|\n",
      "+-------------+------------+\n",
      "|          509|          59|\n",
      "|          188|          46|\n",
      "|          628|          28|\n",
      "|         1398|          23|\n",
      "|           29|          22|\n",
      "|          436|          20|\n",
      "|          433|          20|\n",
      "|          938|          17|\n",
      "|          546|          17|\n",
      "|          716|          17|\n",
      "|         1147|          16|\n",
      "|          965|          15|\n",
      "|         1187|          15|\n",
      "|          272|          14|\n",
      "|          782|          13|\n",
      "+-------------+------------+\n",
      "only showing top 15 rows\n",
      "\n",
      "The top 10 users with the most ratings given\n",
      "+------+------------+\n",
      "|UserID|RatingsGiven|\n",
      "+------+------------+\n",
      "|   272|         244|\n",
      "|  1187|         232|\n",
      "|   161|         197|\n",
      "|     3|         193|\n",
      "|   969|         174|\n",
      "|    79|         172|\n",
      "|   199|         155|\n",
      "|   702|         147|\n",
      "|   670|         137|\n",
      "|  1039|         129|\n",
      "+------+------------+\n",
      "only showing top 10 rows\n",
      "\n"
     ]
    }
   ],
   "source": [
    "from pyspark.sql import *\n",
    "from pyspark.sql.types import *\n",
    "from pyspark.sql.functions import *\n",
    "\n",
    "spark = SparkSession.builder.getOrCreate() #Create the spark session\n",
    "\n",
    "#https://sparkbyexamples.com/pyspark/pyspark-read-csv-file-into-dataframe/\n",
    "RatingsSchema = StructType([\n",
    "    StructField(\"UserID\", IntegerType(), True),\n",
    "    StructField(\"ItemID\", IntegerType(), True),\n",
    "    StructField(\"Rating\", FloatType(), True)\n",
    "])\n",
    "\n",
    "TrustSchema = StructType([\n",
    "    StructField(\"TrustorUserID\", IntegerType(), True),\n",
    "    StructField(\"TrusteeUserID\", IntegerType(), True),\n",
    "    StructField(\"TrustValue\", IntegerType(), True)\n",
    "])\n",
    "\n",
    "RatingsDF = spark.read.load(\"ratings.txt\", format='csv', sep=\" \", schema=RatingsSchema) #Read the contents of ratings.txt\n",
    "\n",
    "print(\"There are\", RatingsDF.count(),\"rows of data as standard\") #Display the number of rows in RatingsDF\n",
    "RatingsDF = RatingsDF.dropna() #Remove rows with empty data present\n",
    "print(\"There are\", RatingsDF.count(),\"rows of data after dropping empty data\") #Display the number of rows in RatingsDF so it can be compared to remove removing incomplete rows\n",
    "RatingsDF = RatingsDF.dropDuplicates(['UserID', 'ItemID']) #Remove rows that are duplicates of each other\n",
    "print(\"There are\", RatingsDF.count(),\"rows of data after dropping duplicates\") #Display the number of rows in RatingsDF so it can be comapred to see how much data cleaning has taken place\n",
    "\n",
    "#Repeat the entire process for the trust.txt file into a second dataframe\n",
    "TrustDF = spark.read.load(\"trust.txt\", format='csv', sep=\" \", schema=TrustSchema)\n",
    "\n",
    "print(\"There are\", TrustDF.count(), \"rows of data as standard\")\n",
    "TrustDF = TrustDF.dropna()\n",
    "print(\"There are\", TrustDF.count(), \"rows of data after dropping empty data\")\n",
    "TrustDF = TrustDF.dropDuplicates(['TrustorUserID', 'TrusteeUserID'])\n",
    "print(\"There are\", TrustDF.count(), \"rows of data after dropping duplicates\")\n",
    "\n",
    "import matplotlib.pyplot as plt\n",
    "import numpy as np\n",
    "\n",
    "RatingsPandas = RatingsDF.toPandas()\n",
    "RatingsOnly = RatingsPandas['Rating']\n",
    "plt.rcParams['figure.dpi'] = 100\n",
    "bins=[-0.25, 0.25, 0.75, 1.25, 1.75, 2.25, 2.75, 3.25, 3.75, 4.25] #defining the bins so the histogram has very neat and clear bars\n",
    "fig, ax = plt.subplots(figsize = (9,9))#\n",
    "counts, edges, bars = plt.hist(RatingsOnly, bins=bins, edgecolor=\"black\") #plotting the histogram\n",
    "plt.xlabel('Rating')\n",
    "plt.ylabel('Times the Rating was given')\n",
    "plt.bar_label(bars) #adds the value of the bar as a label\n",
    "plt.show()\n",
    "#https://docs.kanaries.net/topics/PySpark/pyspark-dataframe-column-list\n",
    "#https://www.geeksforgeeks.org/how-to-plot-histogram-from-list-of-data-in-matplotlib/\n",
    "#https://stackoverflow.com/questions/39841733/matplotlib-histogram-how-to-display-the-count-over-the-bar\n",
    "#https://matplotlib.org/stable/api/_as_gen/matplotlib.pyplot.hist.html\n",
    "\n",
    "\n",
    "dfR = RatingsDF.groupBy(\"ItemID\").agg(mean('Rating').alias(\"AverageRating\"), count('ItemID').alias(\"NumOfRatings\")) #Get the average rating and the number of times an item has been rated for each film\n",
    "dfR = dfR.filter(dfR.NumOfRatings > 10)\n",
    "\n",
    "dfTrustee = TrustDF.groupBy(\"TrusteeUserID\").agg(count('TrusteeUserID').alias(\"NumOfRatings\"))\n",
    "dfTrustee = dfTrustee.filter(dfTrustee.NumOfRatings > 5)\n",
    "\n",
    "dfRUsers = RatingsDF.groupBy(\"UserID\").agg(count('UserID').alias(\"RatingsGiven\"))\n",
    "\n",
    "print(\"Top 5 films\")\n",
    "dfR.orderBy(desc(\"AverageRating\")).show(5)\n",
    "print(\"Bottom 5 films\")\n",
    "dfR.orderBy(asc(\"AverageRating\")).show(5)\n",
    "\n",
    "print(\"The top 10 most rated films\")\n",
    "dfR.orderBy(desc(\"NumOfRatings\")).show(10)\n",
    "\n",
    "print(\"Top 15 users to be rated by other users\")\n",
    "dfTrustee.orderBy(desc(\"NumOfRatings\")).show(15)\n",
    "\n",
    "print(\"The top 10 users with the most ratings given\")\n",
    "dfRUsers.orderBy(desc(\"RatingsGiven\")).show(10)"
   ]
  },
  {
   "cell_type": "markdown",
   "metadata": {},
   "source": [
    "Part 3"
   ]
  },
  {
   "cell_type": "code",
   "execution_count": null,
   "metadata": {},
   "outputs": [
    {
     "name": "stderr",
     "output_type": "stream",
     "text": [
      "25/01/07 17:00:48 WARN InstanceBuilder: Failed to load implementation from:dev.ludovic.netlib.blas.JNIBLAS\n",
      "25/01/07 17:00:48 WARN InstanceBuilder: Failed to load implementation from:dev.ludovic.netlib.blas.VectorBLAS\n"
     ]
    }
   ],
   "source": [
    "from pyspark.ml.recommendation import ALS\n",
    "from pyspark.ml.evaluation import RegressionEvaluator\n",
    "\n",
    "#https://medium.com/@brunoborges_38708/recommender-system-using-als-in-pyspark-10329e1d1ee1\n",
    "#https://api-docs.databricks.com/python/pyspark/latest/api/pyspark.ml.recommendation.ALS.html\n",
    "\n",
    "#Splitting the data to be able to train the model\n",
    "train_data, test_data = RatingsDF.randomSplit([0.9, 0.1], seed=1234)\n",
    "\n",
    "#Using the ALS model\n",
    "als = ALS(\n",
    "    maxIter=10,\n",
    "    regParam=0.1,\n",
    "    itemCol=\"ItemID\",\n",
    "    userCol=\"UserID\",\n",
    "    ratingCol=\"Rating\",\n",
    "    coldStartStrategy=\"drop\",\n",
    "    nonnegative=True\n",
    ")\n",
    "\n",
    "#Fitting the training data into the model\n",
    "model = als.fit(train_data)\n",
    "predictions = model.transform(test_data)\n",
    "\n",
    "#create evaluator\n",
    "evaluator = RegressionEvaluator(\n",
    "    metricName=\"rmse\",\n",
    "    labelCol=\"Rating\",\n",
    "    predictionCol=\"prediction\"\n",
    ")\n",
    "\n",
    "#using RMSE as the mathmatical evaluator of the entire model\n",
    "rmse=evaluator.evaluate(predictions)\n",
    "print(f\"Root Mean Squared Error (RMSE) = {rmse}\")\n",
    "\n",
    "#Make 5 recommendations for each user\n",
    "userRecommendations = model.recommendForAllUsers(5)\n",
    "userRecommendations.show(truncate=False)\n",
    "\n",
    "\n",
    "#testing the optimal number of iterations for ALS\n",
    "tries=[2,3,5,10,15,20,25]\n",
    "test_rmse=np.zeros((len(tries),1))\n",
    "train_rmse=np.zeros((len(tries),1))\n",
    "\n",
    "for i in range(0,len(tries)):\n",
    "    als = ALS(\n",
    "        maxIter=tries[i],\n",
    "        regParam=0.1,\n",
    "        itemCol=\"ItemID\",\n",
    "        userCol=\"UserID\",\n",
    "        ratingCol=\"Rating\",\n",
    "        coldStartStrategy=\"drop\",\n",
    "        nonnegative=True\n",
    "    )\n",
    "\n",
    "    model = als.fit(train_data)\n",
    "    train_predictions = model.transform(train_data)\n",
    "    test_predictions = model.transform(test_data)\n",
    "\n",
    "    evaluator = RegressionEvaluator(\n",
    "        metricName=\"rmse\",\n",
    "        labelCol=\"Rating\",\n",
    "        predictionCol=\"prediction\"\n",
    "    )\n",
    "\n",
    "    train_rmse[i]=evaluator.evaluate(train_predictions)\n",
    "    test_rmse[i]=evaluator.evaluate(test_predictions)\n",
    "\n",
    "plt.figure()\n",
    "plt.xlabel(\"Iterations\")\n",
    "plt.ylabel(\"Root Mean Squared Error\")\n",
    "plt.plot(tries, train_rmse, 'b')\n",
    "plt.plot(tries, test_rmse, 'g')\n",
    "plt.axvline(x=10, color='r')\n",
    "plt.show()\n"
   ]
  }
 ],
 "metadata": {
  "kernelspec": {
   "display_name": "Python 3",
   "language": "python",
   "name": "python3"
  },
  "language_info": {
   "codemirror_mode": {
    "name": "ipython",
    "version": 3
   },
   "file_extension": ".py",
   "mimetype": "text/x-python",
   "name": "python",
   "nbconvert_exporter": "python",
   "pygments_lexer": "ipython3",
   "version": "3.12.1"
  }
 },
 "nbformat": 4,
 "nbformat_minor": 2
}
